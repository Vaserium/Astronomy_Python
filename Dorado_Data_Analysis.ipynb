{
 "cells": [
  {
   "cell_type": "code",
   "execution_count": 14,
   "id": "b1cce669-4bb5-475c-b5aa-322c6e258cfa",
   "metadata": {
    "tags": []
   },
   "outputs": [
    {
     "data": {
      "text/plain": [
       "Text(0, 0.5, 'Flux (e-/s)')"
      ]
     },
     "execution_count": 14,
     "metadata": {},
     "output_type": "execute_result"
    },
    {
     "data": {
      "image/png": "[encoded data removed]",
      "text/plain": [
       "<Figure size 432x288 with 1 Axes>"
      ]
     },
     "metadata": {
      "needs_background": "light"
     },
     "output_type": "display_data"
    }
   ],
   "source": [
    "from astropy.utils.data import get_pkg_data_filename\n",
    "import numpy as np\n",
    "import matplotlib.pyplot as plt\n",
    "import astropy.units as u\n",
    "from astropy.time import Time\n",
    "from astropy.io import fits\n",
    "from matplotlib import pyplot as plt\n",
    "import astropy.io.fits as fits\n",
    "from astropy import units as u\n",
    "from astropy.timeseries import TimeSeries\n",
    "from astropy.table import Table\n",
    "import astropy.table\n",
    "from matplotlib.colors import LogNorm\n",
    "import numpy as np\n",
    "import astropy.table\n",
    "import astropy.units as u\n",
    "import numpy as np\n",
    "from astropy.io import fits\n",
    "from astropy.table import Table\n",
    "from matplotlib.colors import LogNorm\n",
    "\n",
    "# Set up matplotlib\n",
    "import matplotlib.pyplot as plt\n",
    "%matplotlib inline\n",
    "\n",
    "hdulist = fits.open('.dorado/data/wrk/2020-11-10+11/final.fits')\n",
    "tbdata = hdulist[1].data\n",
    "cols = hdulist[1].columns\n",
    "#cols.info()\n",
    "\n",
    "array_A = []\n",
    "for i in range(48):\n",
    "    if (tbdata['time'][i][1]) < 0:\n",
    "        array_A.append([tbdata['time'][i][1]*(-1)])\n",
    "    else:\n",
    "        array_A.append([tbdata['time'][i][1]*(1)])\n",
    "\n",
    "plt.plot(array_A, tbdata['flux'], 'k.')\n",
    "plt.xlabel('Julian Date')\n",
    "plt.ylabel('Flux (e-/s)')"
   ]
  },
  {
   "cell_type": "code",
   "execution_count": 15,
   "id": "42c7b586-72fa-461b-b24a-faa924cdd39f",
   "metadata": {},
   "outputs": [
    {
     "data": {
      "text/plain": [
       "389.3614796463941"
      ]
     },
     "execution_count": 15,
     "metadata": {},
     "output_type": "execute_result"
    }
   ],
   "source": [
    "tbdata['flux'].mean()"
   ]
  },
  {
   "cell_type": "code",
   "execution_count": 16,
   "id": "56e88b02-5066-473f-b30a-e7473b70c289",
   "metadata": {},
   "outputs": [
    {
     "data": {
      "text/plain": [
       "48"
      ]
     },
     "execution_count": 16,
     "metadata": {},
     "output_type": "execute_result"
    }
   ],
   "source": [
    "len(tbdata['flux'])"
   ]
  },
  {
   "cell_type": "code",
   "execution_count": 17,
   "id": "ac5a0048-5b9b-4fee-b73a-acd6e041df01",
   "metadata": {},
   "outputs": [
    {
     "data": {
      "text/plain": [
       "48"
      ]
     },
     "execution_count": 17,
     "metadata": {},
     "output_type": "execute_result"
    }
   ],
   "source": [
    "len(tbdata['time'])"
   ]
  },
  {
   "cell_type": "code",
   "execution_count": 18,
   "id": "6b4b1474-ffda-4f35-91c7-787ff6644b9e",
   "metadata": {},
   "outputs": [
    {
     "name": "stdout",
     "output_type": "stream",
     "text": [
      "[ 2.45916400e+06 -4.21960787e-01]\n"
     ]
    }
   ],
   "source": [
    "print(tbdata['time'][0])"
   ]
  }
 ],
 "metadata": {
  "kernelspec": {
   "display_name": "Python 3 (ipykernel)",
   "language": "python",
   "name": "python3"
  },
  "language_info": {
   "codemirror_mode": {
    "name": "ipython",
    "version": 3
   },
   "file_extension": ".py",
   "mimetype": "text/x-python",
   "name": "python",
   "nbconvert_exporter": "python",
   "pygments_lexer": "ipython3",
   "version": "3.9.5"
  }
 },
 "nbformat": 4,
 "nbformat_minor": 5
}
